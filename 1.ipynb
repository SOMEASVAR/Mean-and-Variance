{
 "cells": [
  {
   "cell_type": "code",
   "execution_count": 1,
   "id": "f9d67d0a",
   "metadata": {},
   "outputs": [
    {
     "name": "stdout",
     "output_type": "stream",
     "text": [
      "5 1 5 4 10 5 8 9 9 2 5 8 7 1 9 3 6 4 2 8\n",
      "The mean arrival rate is 5.550\n",
      "The variance of arrival from feeder is 7.747\n",
      "The standard deviation of arrival deom feeder is 2.783\n"
     ]
    }
   ],
   "source": [
    "import numpy as np\n",
    "L=[int(i) for i in input().split()]\n",
    "N=len(L);M=max(L)\n",
    "X=list();f=list()\n",
    "for i in range(M+1):\n",
    "    c=0\n",
    "    for j in range(N):\n",
    "        if L[j]==i:\n",
    "            c=c+1\n",
    "    f.append(c)\n",
    "    X.append(i)\n",
    "sf=np.sum(f)\n",
    "p=list()\n",
    "for i in range(M+1):\n",
    "    p.append(f[i]/sf)\n",
    "mean=np.inner(X,p)\n",
    "EX2=np.inner(np.square(X),p)\n",
    "var=EX2-mean**2\n",
    "SD=np.sqrt(var)\n",
    "print(\"The mean arrival rate is %.3f\"%mean)\n",
    "print(\"The variance of arrival from feeder is %.3f\"%var)\n",
    "print(\"The standard deviation of arrival deom feeder is %.3f\"%SD)"
   ]
  },
  {
   "cell_type": "code",
   "execution_count": null,
   "id": "6079a8a8",
   "metadata": {},
   "outputs": [],
   "source": []
  }
 ],
 "metadata": {
  "kernelspec": {
   "display_name": "Python 3 (ipykernel)",
   "language": "python",
   "name": "python3"
  },
  "language_info": {
   "codemirror_mode": {
    "name": "ipython",
    "version": 3
   },
   "file_extension": ".py",
   "mimetype": "text/x-python",
   "name": "python",
   "nbconvert_exporter": "python",
   "pygments_lexer": "ipython3",
   "version": "3.8.12"
  }
 },
 "nbformat": 4,
 "nbformat_minor": 5
}
